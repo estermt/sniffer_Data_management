{
 "cells": [
  {
   "cell_type": "code",
   "execution_count": null,
   "id": "fccf9dd0-5d1c-4cc1-9193-fb6fe914bf57",
   "metadata": {
    "vscode": {
     "languageId": "r"
    }
   },
   "outputs": [],
   "source": [
    "#Script methane data management\n",
    "library(data.table)\n",
    "library(dplyr)\n",
    "library(plyr)\n",
    "library(tidyr)\n",
    "library(lubridate)\n",
    "library(ggplot2)\n"
   ]
  },
  {
   "cell_type": "code",
   "execution_count": null,
   "id": "759b5661-d78e-4682-a739-911895c22d49",
   "metadata": {
    "scrolled": true,
    "vscode": {
     "languageId": "r"
    }
   },
   "outputs": [],
   "source": [
    "# Set the directory \n",
    "setwd(\"C:/Users/Ester/Documents/curso metano\")"
   ]
  },
  {
   "cell_type": "code",
   "execution_count": null,
   "id": "42ff7bdd-872c-494c-9a74-cfe028308338",
   "metadata": {
    "vscode": {
     "languageId": "r"
    }
   },
   "outputs": [],
   "source": [
    "# Read the sniffer output\n",
    "bd=read.table(\"output_methane.txt\",sep=\",\",header=T) #500 rows & 20 cols\n",
    "bd_id=unique(bd[,1]) #63 individuals\n",
    "summary(bd)"
   ]
  },
  {
   "cell_type": "code",
   "execution_count": null,
   "id": "a157a7b2-f09a-43f8-b550-849ba2342d87",
   "metadata": {
    "vscode": {
     "languageId": "r"
    }
   },
   "outputs": [],
   "source": [
    "# Read test day file\n",
    "test=read.table(\"control.csv\",sep=\";\",header=T)#107 rows & 21 cols\n",
    "test_id=unique(test[,1])#64 #july and sept\n",
    "#obtain date from test day records\n",
    "test$test_date1=dmy(test$test_date)"
   ]
  },
  {
   "cell_type": "code",
   "execution_count": null,
   "id": "392e1e1e-0fc2-41fa-917f-e5b3baa59402",
   "metadata": {
    "vscode": {
     "languageId": "r"
    }
   },
   "outputs": [],
   "source": [
    "# Obtain kgm of protein and fat \n",
    "\n",
    "test$kgmfat=test$fat*test$milk/100                  \n",
    "test$kgmprotein=test$protein*test$milk/100 "
   ]
  },
  {
   "cell_type": "code",
   "execution_count": null,
   "id": "ad41016d-424b-431b-80b6-d3c514d14c59",
   "metadata": {
    "vscode": {
     "languageId": "r"
    }
   },
   "outputs": [],
   "source": [
    "############################Join both tables by ID and closest date###################################################################\n",
    "\n",
    "# Obtain date from output\n",
    "bd<-tidyr::separate(data = bd, col =\"date\",into =  c(\"day\", \"month\",\"date\",\"time\",\"z\",\"year\"), sep = \" \", extra = \"merge\")\n",
    "bd$sniffer_date=paste(bd$date, bd$month, bd$year, sep = \"/\")\n",
    "bd$sniffer_date1<-dmy(bd$sniffer_date)\n",
    "\n",
    "\n",
    "# Join the two datatables-\n",
    "bd_full <- lapply(intersect(bd$cow,test$cow),function(id) {\n",
    "  d1 <- subset(bd,cow==id)\n",
    "  d2 <- subset(test,cow==id)\n",
    "  \n",
    "  d1$indices <- sapply(as.Date(d1$sniffer_date1),function(d) which.min(abs(as.Date(d2$test_date1) - d)))\n",
    "  d2$indices <- 1:nrow(d2)\n",
    "  \n",
    "  merge(d1,d2,by=c('cow','indices'))\n",
    "}) ###\n",
    "\n",
    "bd_full <- do.call(rbind,bd_full) #342\n",
    "bd_full$indices <- NULL\n",
    "# Check the number of animals that not joined \n",
    "bd_antijoin=anti_join(bd,bd_full,by=\"cow\") #158, 3 individuals\n",
    "bd_full$dif_days=abs(bd_full$sniffer_date1-bd_full$test_date1)\n",
    "# check the difference of days ###choose less than 40 days\n",
    "table(bd_full$dif_days)"
   ]
  },
  {
   "cell_type": "code",
   "execution_count": null,
   "id": "54ddb0b6-19be-4b98-bdec-bf12cdd69c0f",
   "metadata": {
    "vscode": {
     "languageId": "r"
    }
   },
   "outputs": [],
   "source": [
    "#####################################Calving and milking################################################################\n",
    "# Obtain days in milking\n",
    "bd_full=tidyr::separate(data=bd_full,col =\"calving_date\", into=c('calving_date', 'calving_time'),sep=' ')\n",
    "bd_full$calving_date1=dmy(bd_full$calving_date)\n",
    "bd_full$daysinmilking=bd_full$sniffer_date1-bd_full$calving_date1\n",
    "bd_full$daysinmilking=gsub(\"[a-z]\",\"\",bd_full$daysinmilking)#retain only numbers\n",
    "bd_full$daysinmilking=as.numeric(bd_full$daysinmilking)\n",
    "\n",
    "# Check difference of days\n",
    "table(bd_full$daysinmilking)\n",
    "# Choose The threshold the difference of days , 365\n",
    "bd_full1=bd_full %>% filter(daysinmilking <= 365) \n",
    "# Obtain week of lactation \n",
    "bd_full1$week_lactation=floor(bd_full1$daysinmilking / 7)\n",
    "# Codify days in milking as levels \n",
    "bd_full1<-mutate(bd_full1,state_lactation=case_when(\n",
    "  daysinmilking < 91 ~ \"1\",\n",
    "  daysinmilking > 90 & daysinmilking < 151 ~ \"2\",\n",
    "  daysinmilking >150 ~ \"3\"))\n",
    "table(bd_full1$state_lactation)\n",
    "\n",
    "# Codify number of calving in three or four levels \n",
    "hist(bd_full1$numpar)\n",
    "table(bd_full1$numpar)\n",
    "#If there is data of more than 3 calvings\n",
    "bd_full1<-mutate(bd_full1,num_calving=case_when(\n",
    "  numpar <= 1 ~ \"1\",\n",
    "  numpar > 1 & numpar < 3  ~ \"2\",\n",
    "  numpar > 2 ~ \"3\"))\n",
    "table(bd_full1$num_calving)\n"
   ]
  },
  {
   "cell_type": "code",
   "execution_count": null,
   "id": "e0d12e8b-c491-41e8-a6f1-087b01c7a30d",
   "metadata": {
    "vscode": {
     "languageId": "r"
    }
   },
   "outputs": [],
   "source": [
    "##############################Ratio and grams per day #########################################################################\n",
    "#Ratio mean CH4/CO2\n",
    "bd_full1$ratioCH4CO2=bd_full1$meanCH4/bd_full1$meanCO2\n",
    "mean(bd_full1$ratioCH4CO2)\n",
    "# Obtain grams per day \n",
    "# Madsen equation\n",
    "bd_full1$ECM=bd_full1$milk*(0.25+0.122*bd_full1$fat+0.077*bd_full1$protein)\n",
    "bd_full1$days_inpregnancy=0\n",
    "bd_full1$gd_madsen<-(0.714*bd_full1$ratioCH4CO2)*180*24*0.001*(5.6*bd_full1$weight**0.75+22*bd_full1$ECM+\n",
    "                                                                 1.6*0.00001*bd_full1$days_inpregnancy**3)\n",
    "mean(bd_full1$gd_madsen,na.rm=T)\n",
    "  \n",
    "# Tier 2 equation\n",
    "Cf<-0.386*1.2 #coefficient for feeding situation, lactating\n",
    "Ca<-0 #Coefficient for activity\n",
    "Cp<-0.10 #coefficient for pregnancy\n",
    "DE<-80 #Digestible energy per gross energy in cows fed low quality forage and concentrate\n",
    "\n",
    "NEm<-Cf*bd_full1$weight**0.75\n",
    "NEa<-NEm*Ca\n",
    "NEl<-bd_full1$milk*(1.47+0.4*bd_full1$fat)\n",
    "NEp<-ifelse(bd_full1$daysinmilking>100, Cp*NEm,0)\n",
    "REM<-1.123-(0.004092)*DE+0.00001126*(DE)**2-25.4/DE\n",
    "GE<- 1000*((NEm+NEa+NEl+NEp)/REM)/(DE/100) #g/d\n",
    "bd_full1$CH4_tier2<-GE*0.065/55.65\n",
    "\n",
    "mean(bd_full1$CH4_tier2,na.rm=T)"
   ]
  },
  {
   "cell_type": "code",
   "execution_count": null,
   "id": "cb044458-33d2-4a1c-948b-a5fcda1af0ec",
   "metadata": {
    "vscode": {
     "languageId": "r"
    }
   },
   "outputs": [],
   "source": [
    "# Distribution of data\n",
    "summary(bd_full1)\n",
    "# Plot the phenotypes distribution \n",
    "\n",
    "# By trait\n",
    "ggplot(bd_full1, aes(x = meanCH4)) +\n",
    "  geom_histogram( fill = \"skyblue\", color = \"black\") +\n",
    "  theme_minimal() +\n",
    "  labs(title = \"distribution of phenotypes\", x = \"meanCH4(ppm)\", y = \"Frequency\")\n",
    "\n",
    "# All traits \n",
    "names(bd_full1)\n",
    "# Convert to long format  (columns to rows)\n",
    "df_plot <- bd_full1 %>%\n",
    "  pivot_longer(cols = c(9:23,49,52,53), names_to = \"Variable\", values_to = \"Valor\")\n",
    "\n",
    "ggplot(df_plot, aes(x = Valor)) +\n",
    "  geom_histogram( fill = \"skyblue\", color = \"black\") +\n",
    "  facet_wrap(~ Variable, scales = \"free\") +\n",
    "  theme_minimal() +\n",
    "  labs(title = \"distribution of phenotypes\", x = \"value\", y = \"Frequency\")"
   ]
  },
  {
   "cell_type": "code",
   "execution_count": null,
   "id": "caf42a77-47ac-4efb-a5a6-5758c1fdbf6f",
   "metadata": {
    "vscode": {
     "languageId": "r"
    }
   },
   "outputs": [],
   "source": [
    "# Outlier detection by quartiles\n",
    "ggplot(df_plot, aes(x = Valor)) +\n",
    "  geom_boxplot(fill = \"skyblue\", color = \"black\", outlier.color = \"red\", outlier.shape = 16) +\n",
    "  facet_wrap(~ Variable, scales = \"free\")+\n",
    "  theme_minimal() +\n",
    "  labs(title = \"Box and whisker plot\", x = \"Variable\", y = \"Values\")"
   ]
  },
  {
   "cell_type": "code",
   "execution_count": null,
   "id": "5597ef7a-bb0b-4be0-b532-a27794a30f8a",
   "metadata": {
    "vscode": {
     "languageId": "r"
    }
   },
   "outputs": [],
   "source": [
    "##################################################Pattern by hour#####################################################\n",
    "# Plot the distribution by hour \n",
    "bd_full1$hour=substr(bd_full1$time, 1, 2) #susbtract the hour to plot\n",
    "bd_full1$hour=as.numeric(bd_full1$hour)\n",
    "table(bd_full1$hour)\n",
    "\n",
    "# By individual\n",
    "animal_9765=subset(bd_full1,bd_full1$cow==\"9765\")\n",
    "ggplot(data=animal_9765, aes(x= hour, y=gd_madsen)) +\n",
    "  geom_line()+geom_point()+\n",
    "  geom_smooth(method = \"loess\",  span = 0.2,se=TRUE)+\n",
    "  facet_wrap(facets = vars(date))+\n",
    "  ggtitle(\"9765\")\n",
    "\n",
    "\n",
    "# All individuals\n",
    "ggplot(data=bd, aes(x= hour, y=gd_madsen)) +\n",
    "  # geom_point() +  # Puntos individuales\n",
    "  geom_line()+    #línea de tendencia\n",
    "  geom_smooth(method = \"loess\",  span = 0.3,se=TRUE)+ \n",
    "  facet_wrap(facets = vars(cow))+\n",
    "  ggtitle(\"Pattern by hour\")"
   ]
  },
  {
   "cell_type": "code",
   "execution_count": null,
   "id": "28d3da1e-0212-43a6-9346-720c93af8825",
   "metadata": {
    "vscode": {
     "languageId": "r"
    }
   },
   "outputs": [],
   "source": [
    "############################################################DATA FILTERING##########################################################################################\n",
    "# Threshold by CO2 concentration\n",
    "bd_full2 <- bd_full1 %>%\n",
    "  dplyr::mutate(across(c(meanCH4, meanCH4_5s,meanCO2,meanRatioCH4_CO2,AUC_CH4,AUC_Ratio,\n",
    "                         Sum_of_PeaksCH4,Sum_of_PeaksCH4_5s,Sum_of_PeaksCO2,Sum_of_PeaksRatio,\n",
    "                         Mean_of_PeaksCH4,Mean_of_PeaksRatio,Sum_MaxPeak, ratioCH4CO2, gd_madsen,\n",
    "                         CH4_tier2), ~ ifelse(meanCO2 < 2500, NA, .)))\n",
    "\n",
    "colSums(is.na(bd_full1))\n",
    "colSums(is.na(bd_full2))\n",
    "\n",
    "\n",
    "# Make correction by SD\n",
    "# Function for correction of data ±3 SD\n",
    "function_outliers <- function(x) {\n",
    "  mean_x <- mean(x, na.rm = TRUE)\n",
    "  sd_x <- sd(x, na.rm = TRUE)\n",
    "  \n",
    "  # Set upper and lower lim (± 3 SD)\n",
    "  lower_lim <- mean_x - 3 * sd_x\n",
    "  upper_lim <- mean_x + 3 * sd_x\n",
    "  \n",
    "  # Replace out-of-limit values with Nas \n",
    "  x <- ifelse(x < lower_lim | x > upper_lim, NA, x)\n",
    "  \n",
    "  return(x)\n",
    "}\n",
    "\n",
    "data_corrected <- bd_full2 %>%\n",
    "  dplyr::mutate(across(\n",
    "    c(meanCH4, meanCH4_5s,meanCO2,meanRatioCH4_CO2,AUC_CH4,AUC_Ratio,\n",
    "      Sum_of_PeaksCH4,Sum_of_PeaksCH4_5s,Sum_of_PeaksCO2,Sum_of_PeaksRatio,\n",
    "      Mean_of_PeaksCH4,Mean_of_PeaksRatio,Sum_MaxPeak, ratioCH4CO2, gd_madsen ,\n",
    "      CH4_tier2), #Apply the function to these variables  \n",
    "    function_outliers    # Function to replace outliers\n",
    "  ))\n",
    "colSums(is.na(data_corrected))\n"
   ]
  },
  {
   "cell_type": "code",
   "execution_count": null,
   "id": "eed4edc7-df65-42d7-b82a-7f0182b4395a",
   "metadata": {
    "vscode": {
     "languageId": "r"
    }
   },
   "outputs": [],
   "source": [
    "#Printing cows numbers\n",
    "cow_ids<- unique(event_ch4$cow)\n",
    "print(cow_ids)\n"
   ]
  },
  {
   "cell_type": "code",
   "execution_count": null,
   "id": "a03cc66a-22c7-40b8-88fc-903ec12cee72",
   "metadata": {
    "vscode": {
     "languageId": "r"
    }
   },
   "outputs": [],
   "source": [
    "#################### function to read the events of n cow ##################\n",
    "# Function to get all events of a specific cow\n",
    "get_unique_cow_event_ids <- function(cow_number) {\n",
    "  cow_events <- subset(event_ch4, cow == cow_number)\n",
    "  unique_event_ids <- unique(cow_events$eventID)\n",
    "  return(unique_event_ids)\n",
    "}\n",
    "\n",
    "cow_number <- 72\n",
    "unique_event_ids <- get_unique_cow_event_ids(cow_number)\n",
    "print(unique_event_ids)\n"
   ]
  },
  {
   "cell_type": "code",
   "execution_count": null,
   "id": "dea8044b-29f2-4817-a3dd-dee8d4c24d45",
   "metadata": {
    "vscode": {
     "languageId": "r"
    }
   },
   "outputs": [],
   "source": [
    "############# lets plot an event of a cow   ####### \n",
    "\n",
    "# Choose a specific cow and event for the plot\n",
    "cow_id <- 72\n",
    "event_id <- 138\n",
    "\n",
    "plot_data <- subset(event_ch4, cow == cow_id & eventID == event_id)\n",
    "\n",
    "# Create ggplot plot\n",
    "p <- ggplot(plot_data, aes(x = datetime, y = ch4)) +\n",
    "  geom_line() +\n",
    "  geom_point() +\n",
    "  labs(title = paste(\"CH4 Time Series for Cow\", cow_id, \"in Event\", event_id),\n",
    "       x = \"Datetime\",\n",
    "       y = \"Ch4\") +\n",
    "  theme_minimal()\n",
    "\n",
    "# Explicitly print and assign a name to the plot\n",
    "print(p)\n"
   ]
  },
  {
   "cell_type": "code",
   "execution_count": null,
   "id": "aa96b103-c09b-481d-b26d-f046b9a2e806",
   "metadata": {
    "vscode": {
     "languageId": "r"
    }
   },
   "outputs": [],
   "source": [
    "# Function to detect peaks\n",
    "detectPeaks <- function(ch4, windowSize = 5, threshold = 0.0005) {\n",
    "  peaksIni <- c()\n",
    "  peaksFin <- c()\n",
    "  stage <- FALSE\n",
    "  peak_decreasing <- FALSE\n",
    "  \n",
    "  for (i in 1:(length(ch4) - windowSize)) {\n",
    "    tempW <- ch4[i:(i + windowSize - 1)]\n",
    "    tempX <- 1:windowSize\n",
    "    \n",
    "    mean_tempW <- mean(tempW, na.rm = TRUE)\n",
    "    mean_tempX <- mean(tempX, na.rm = TRUE)\n",
    "    \n",
    "    cov_xy <- sum((tempW - mean_tempW) * (tempX - mean_tempX), na.rm = TRUE)\n",
    "    var_x <- sum((tempX - mean_tempX) * (tempX - mean_tempX), na.rm = TRUE)\n",
    "    \n",
    "    pendiente <- cov_xy / var_x\n",
    "    \n",
    "    if (pendiente > threshold && !stage) {\n",
    "      peaksIni <- c(peaksIni, i)\n",
    "      stage <- TRUE\n",
    "      peak_decreasing <- FALSE\n",
    "    } else if (stage && pendiente < -threshold) {\n",
    "      peak_decreasing <- TRUE\n",
    "    } else if (stage && peak_decreasing && pendiente > -threshold / 2) {\n",
    "      peaksFin <- c(peaksFin, i)\n",
    "      stage <- FALSE\n",
    "      peak_decreasing <- FALSE\n",
    "    } else if (length(peaksIni) == 0 && pendiente > threshold / 2) {\n",
    "      # Handle case where no peaks have been detected yet\n",
    "    } else if (i == (length(ch4) - windowSize) && peak_decreasing) {\n",
    "      peaksFin <- c(peaksFin, i)\n",
    "    }\n",
    "  }\n",
    "  \n",
    "  list(peaksIni = peaksIni, peaksFin = peaksFin)\n",
    "}\n",
    "\n",
    "# Apply the peak detection to the entire database\n",
    "peak_det <- event_ch4 %>%\n",
    "  group_by(eventID) %>%\n",
    "  summarise(num_peaks = length(detectPeaks(ch4)$peaksIni))\n",
    "\n",
    "# Print the results\n",
    "head(peak_det)\n",
    "summary(peak_det)\n"
   ]
  },
  {
   "cell_type": "code",
   "execution_count": null,
   "id": "997517c0-e41e-4a5e-bc3d-91f9754e93fb",
   "metadata": {
    "vscode": {
     "languageId": "r"
    }
   },
   "outputs": [],
   "source": [
    "######################## EXERCISE #######################\n",
    "#1)Calculate the num of peaks per  minute\n",
    "    #HINT: Use merge, and lenght of event (visit) "
   ]
  },
  {
   "cell_type": "code",
   "execution_count": null,
   "id": "527f07bf-0f81-4e6f-b382-820d0a740dae",
   "metadata": {
    "vscode": {
     "languageId": "r"
    }
   },
   "outputs": [],
   "source": [
    "# Function to detect peaks and calculate sum2maxpeaks\n",
    "detectPeaksAndSum <- function(ch4, windowSize = 5, threshold = 0.0005) {\n",
    "  peaksIni <- c()\n",
    "  peaksFin <- c()\n",
    "  stage <- FALSE\n",
    "  peak_decreasing <- FALSE\n",
    "  \n",
    "  for (i in 1:(length(ch4) - windowSize)) {\n",
    "    tempW <- ch4[i:(i + windowSize - 1)]\n",
    "    tempX <- 1:windowSize\n",
    "    \n",
    "    mean_tempW <- mean(tempW, na.rm = TRUE)\n",
    "    mean_tempX <- mean(tempX, na.rm = TRUE)\n",
    "    \n",
    "    cov_xy <- sum((tempW - mean_tempW) * (tempX - mean_tempX), na.rm = TRUE)\n",
    "    var_x <- sum((tempX - mean_tempX) * (tempX - mean_tempX), na.rm = TRUE)\n",
    "    \n",
    "    pendiente <- cov_xy / var_x\n",
    "    \n",
    "    if (pendiente > threshold && !stage) {\n",
    "      peaksIni <- c(peaksIni, i)\n",
    "      stage <- TRUE\n",
    "      peak_decreasing <- FALSE\n",
    "    } else if (stage && pendiente < -threshold) {\n",
    "      peak_decreasing <- TRUE\n",
    "    } else if (stage && peak_decreasing && pendiente > -threshold / 2) {\n",
    "      peaksFin <- c(peaksFin, i)\n",
    "      stage <- FALSE\n",
    "      peak_decreasing <- FALSE\n",
    "    } else if (length(peaksIni) == 0 && pendiente > threshold / 2) {\n",
    "      # Handle case where no peaks have been detected yet\n",
    "    } else if (i == (length(ch4) - windowSize) && peak_decreasing) {\n",
    "      peaksFin <- c(peaksFin, i)\n",
    "    }\n",
    "  }\n",
    "  \n",
    "  sum2maxpeaks <- 0\n",
    "  if (length(peaksIni) > 0 && length(peaksFin) > 0) {\n",
    "    for (j in 1:length(peaksIni)) {\n",
    "      start <- peaksIni[j]\n",
    "      end <- ifelse(j <= length(peaksFin), peaksFin[j], NA)\n",
    "      if (!is.na(end) && end > start) {\n",
    "        peak_values <- ch4[start:end]\n",
    "        max_values <- sort(peak_values, decreasing = TRUE)[1:2]\n",
    "        avg_max_values <- mean(max_values)\n",
    "        sum2maxpeaks <- sum2maxpeaks + avg_max_values\n",
    "      }\n",
    "    }\n",
    "  }\n",
    "  \n",
    "  list(peaksIni = peaksIni, peaksFin = peaksFin, sum2maxpeaks = sum2maxpeaks)\n",
    "}\n",
    "\n",
    "# Apply the peak detection to the entire database\n",
    "peak_phen <- event_ch4 %>%\n",
    "  group_by(eventID) %>%\n",
    "  summarise(\n",
    "    num_peaks = {\n",
    "      result <- detectPeaksAndSum(ch4)\n",
    "      length(result$peaksIni)\n",
    "    },\n",
    "    sum2maxpeaks = {\n",
    "      result <- detectPeaksAndSum(ch4)\n",
    "      result$sum2maxpeaks\n",
    "    }\n",
    "  )\n",
    "\n",
    "# Print the results\n",
    "head(peak_phen)"
   ]
  },
  {
   "cell_type": "code",
   "execution_count": null,
   "id": "3b4a09a6-44ea-402d-82cc-31e257d4c5a9",
   "metadata": {
    "vscode": {
     "languageId": "r"
    }
   },
   "outputs": [],
   "source": [
    "# Function to detect peaks and calculate sum2maxpeaks and area under the curve\n",
    "detectPeaksAndSum <- function(ch4, windowSize = 5, threshold = 0.0005) {\n",
    "  peaksIni <- c()\n",
    "  peaksFin <- c()\n",
    "  stage <- FALSE\n",
    "  peak_decreasing <- FALSE\n",
    "  \n",
    "  for (i in 1:(length(ch4) - windowSize)) {\n",
    "    tempW <- ch4[i:(i + windowSize - 1)]\n",
    "    tempX <- 1:windowSize\n",
    "    \n",
    "    mean_tempW <- mean(tempW, na.rm = TRUE)\n",
    "    mean_tempX <- mean(tempX, na.rm = TRUE)\n",
    "    \n",
    "    cov_xy <- sum((tempW - mean_tempW) * (tempX - mean_tempX), na.rm = TRUE)\n",
    "    var_x <- sum((tempX - mean_tempX) * (tempX - mean_tempX), na.rm = TRUE)\n",
    "    \n",
    "    pendiente <- cov_xy / var_x\n",
    "    \n",
    "    if (pendiente > threshold && !stage) {\n",
    "      peaksIni <- c(peaksIni, i)\n",
    "      stage <- TRUE\n",
    "      peak_decreasing <- FALSE\n",
    "    } else if (stage && pendiente < -threshold) {\n",
    "      peak_decreasing <- TRUE\n",
    "    } else if (stage && peak_decreasing && pendiente > -threshold / 2) {\n",
    "      peaksFin <- c(peaksFin, i)\n",
    "      stage <- FALSE\n",
    "      peak_decreasing <- FALSE\n",
    "    } else if (length(peaksIni) == 0 && pendiente > threshold / 2) {\n",
    "      # Handle case where no peaks have been detected yet\n",
    "    } else if (i == (length(ch4) - windowSize) && peak_decreasing) {\n",
    "      peaksFin <- c(peaksFin, i)\n",
    "    }\n",
    "  }\n",
    "  \n",
    "  sum2maxpeaks <- 0\n",
    "  area_under_curve <- 0\n",
    "  if (length(peaksIni) > 0 && length(peaksFin) > 0) {\n",
    "    for (j in 1:length(peaksIni)) {\n",
    "      start <- peaksIni[j]\n",
    "      end <- ifelse(j <= length(peaksFin), peaksFin[j], NA)\n",
    "      if (!is.na(end) && end > start) {\n",
    "        peak_values <- ch4[start:end]\n",
    "        max_values <- sort(peak_values, decreasing = TRUE)[1:2]\n",
    "        avg_max_values <- mean(max_values)\n",
    "        sum2maxpeaks <- sum2maxpeaks + avg_max_values\n",
    "        \n",
    "        # Calculate area under the curve above ground level (assumed to be the minimum value in ch4)\n",
    "        ground_level <- min(ch4)\n",
    "        area_under_curve <- area_under_curve + sum(peak_values - ground_level)\n",
    "      }\n",
    "    }\n",
    "  }\n",
    "  \n",
    "  list(peaksIni = peaksIni, peaksFin = peaksFin, sum2maxpeaks = sum2maxpeaks, area_under_curve = area_under_curve)\n",
    "}\n",
    "\n",
    "# Apply the peak detection to the entire database\n",
    "AUC <- event_ch4 %>%\n",
    "  group_by(eventID) %>%\n",
    "  summarise(\n",
    "    num_peaks = {\n",
    "      result <- detectPeaksAndSum(ch4)\n",
    "      length(result$peaksIni)\n",
    "    },\n",
    "    sum2maxpeaks = {\n",
    "      result <- detectPeaksAndSum(ch4)\n",
    "      result$sum2maxpeaks\n",
    "    },\n",
    "    area_under_curve = {\n",
    "      result <- detectPeaksAndSum(ch4)\n",
    "      result$area_under_curve\n",
    "    }\n",
    "  )\n",
    "\n",
    "# Print the results\n",
    "head(AUC)"
   ]
  },
  {
   "cell_type": "code",
   "execution_count": null,
   "id": "d9703862-1499-48dc-9fd9-8c351128dadf",
   "metadata": {
    "vscode": {
     "languageId": "r"
    }
   },
   "outputs": [],
   "source": [
    "############################### now for the 'cut' visit ###########################\n",
    "\n",
    "# Calculate the time difference in seconds from the first TimeStamp per eventID\n",
    "event_ch42<- event_ch4 %>%\n",
    "  group_by(eventID) %>%\n",
    "  mutate(time_diff_sec = as.numeric(difftime(datetime, min(datetime), units = \"secs\"))) %>%\n",
    "  ungroup()\n",
    "\n",
    "# Function to detect peaks and calculate sum2maxpeaks and area under the curve\n",
    "detectPeaksAndSum <- function(ch4, windowSize = 5, threshold = 0.0005) {\n",
    "  peaksIni <- c()\n",
    "  peaksFin <- c()\n",
    "  stage <- FALSE\n",
    "  peak_decreasing <- FALSE\n",
    "  \n",
    "  for (i in 1:(length(ch4) - windowSize)) {\n",
    "    tempW <- ch4[i:(i + windowSize - 1)]\n",
    "    tempX <- 1:windowSize\n",
    "    \n",
    "    mean_tempW <- mean(tempW, na.rm = TRUE)\n",
    "    mean_tempX <- mean(tempX, na.rm = TRUE)\n",
    "    \n",
    "    cov_xy <- sum((tempW - mean_tempW) * (tempX - mean_tempX), na.rm = TRUE)\n",
    "    var_x <- sum((tempX - mean_tempX) * (tempX - mean_tempX), na.rm = TRUE)\n",
    "    \n",
    "    pendiente <- cov_xy / var_x\n",
    "    \n",
    "    if (pendiente > threshold && !stage) {\n",
    "      peaksIni <- c(peaksIni, i)\n",
    "      stage <- TRUE\n",
    "      peak_decreasing <- FALSE\n",
    "    } else if (stage && pendiente < -threshold) {\n",
    "      peak_decreasing <- TRUE\n",
    "    } else if (stage && peak_decreasing && pendiente > -threshold / 2) {\n",
    "      peaksFin <- c(peaksFin, i)\n",
    "      stage <- FALSE\n",
    "      peak_decreasing <- FALSE\n",
    "    } else if (length(peaksIni) == 0 && pendiente > threshold / 2) {\n",
    "      # Handle case where no peaks have been detected yet\n",
    "    } else if (i == (length(ch4) - windowSize) && peak_decreasing) {\n",
    "      peaksFin <- c(peaksFin, i)\n",
    "    }\n",
    "  }\n",
    "  \n",
    "  sum2maxpeaks <- 0\n",
    "  area_under_curve <- 0\n",
    "  if (length(peaksIni) > 0 && length(peaksFin) > 0) {\n",
    "    for (j in 1:length(peaksIni)) {\n",
    "      start <- peaksIni[j]\n",
    "      end <- ifelse(j <= length(peaksFin), peaksFin[j], NA)\n",
    "      if (!is.na(end) && end > start) {\n",
    "        peak_values <- ch4[start:end]\n",
    "        max_values <- sort(peak_values, decreasing = TRUE)[1:2]\n",
    "        avg_max_values <- mean(max_values)\n",
    "        sum2maxpeaks <- sum2maxpeaks + avg_max_values\n",
    "        \n",
    "        # Calculate area under the curve above ground level (assumed to be the minimum value in ch4)\n",
    "        ground_level <- min(ch4)\n",
    "        area_under_curve <- area_under_curve + sum(peak_values - ground_level)\n",
    "      }\n",
    "    }\n",
    "  }\n",
    "  \n",
    "  list(peaksIni = peaksIni, peaksFin = peaksFin, sum2maxpeaks = sum2maxpeaks, area_under_curve = area_under_curve)\n",
    "}\n",
    "\n",
    "# Apply the peak detection to the entire database, considering only data between 60 sec to 300 sec per eventID\n",
    "peak_phen2 <- event_ch42 %>%\n",
    "  filter(time_diff_sec >= 60 & time_diff_sec <= 300) %>%\n",
    "  group_by(eventID) %>%\n",
    "  summarise(\n",
    "    num_peaks = {\n",
    "      result <- detectPeaksAndSum(ch4)\n",
    "      length(result$peaksIni)\n",
    "    },\n",
    "    sum2maxpeaks = {\n",
    "      result <- detectPeaksAndSum(ch4)\n",
    "      result$sum2maxpeaks\n",
    "    },\n",
    "    area_under_curve = {\n",
    "      result <- detectPeaksAndSum(ch4)\n",
    "      result$area_under_curve\n",
    "    }\n",
    "  )\n",
    "\n",
    "# Print the results\n",
    "head(peak_phen2)\n",
    "dim(peak_phen2)"
   ]
  },
  {
   "cell_type": "code",
   "execution_count": null,
   "id": "857472f4-68c5-4d39-a044-e56c4b89eea9",
   "metadata": {
    "vscode": {
     "languageId": "r"
    }
   },
   "outputs": [],
   "source": [
    "#Adding moving average, play with the window sizes\n",
    "detectPeaksAndSum <- function(ch4, windowSize = 5, threshold = 0.0005) {\n",
    "  peaksIni <- c()\n",
    "  peaksFin <- c()\n",
    "  stage <- FALSE\n",
    "  peak_decreasing <- FALSE\n",
    "  \n",
    "  for (i in 1:(length(ch4) - windowSize)) {\n",
    "    tempW <- ch4[i:(i + windowSize - 1)]\n",
    "    tempX <- 1:windowSize\n",
    "    \n",
    "    mean_tempW <- mean(tempW, na.rm = TRUE)\n",
    "    mean_tempX <- mean(tempX, na.rm = TRUE)\n",
    "    \n",
    "    cov_xy <- sum((tempW - mean_tempW) * (tempX - mean_tempX), na.rm = TRUE)\n",
    "    var_x <- sum((tempX - mean_tempX) * (tempX - mean_tempX), na.rm = TRUE)\n",
    "    \n",
    "    pendiente <- cov_xy / var_x\n",
    "    \n",
    "    if (pendiente > threshold && !stage) {\n",
    "      peaksIni <- c(peaksIni, i)\n",
    "      stage <- TRUE\n",
    "      peak_decreasing <- FALSE\n",
    "    } else if (stage && pendiente < -threshold) {\n",
    "      peak_decreasing <- TRUE\n",
    "    } else if (stage && peak_decreasing && pendiente > -threshold / 2) {\n",
    "      peaksFin <- c(peaksFin, i)\n",
    "      stage <- FALSE\n",
    "      peak_decreasing <- FALSE\n",
    "    } else if (length(peaksIni) == 0 && pendiente > threshold / 2) {\n",
    "      # Handle case where no peaks have been detected yet\n",
    "    } else if (i == (length(ch4) - windowSize) && peak_decreasing) {\n",
    "      peaksFin <- c(peaksFin, i)\n",
    "    }\n",
    "  }\n",
    "  \n",
    "  sum2maxpeaks <- 0\n",
    "  area_under_curve <- 0\n",
    "  if (length(peaksIni) > 0 && length(peaksFin) > 0) {\n",
    "    for (j in 1:length(peaksIni)) {\n",
    "      start <- peaksIni[j]\n",
    "      end <- ifelse(j <= length(peaksFin), peaksFin[j], NA)\n",
    "      if (!is.na(end) && end > start) {\n",
    "        peak_values <- ch4[start:end]\n",
    "        max_values <- sort(peak_values, decreasing = TRUE)[1:2]\n",
    "        avg_max_values <- mean(max_values)\n",
    "        sum2maxpeaks <- sum2maxpeaks + avg_max_values\n",
    "        \n",
    "        # Calculate area under the curve above ground level (assumed to be the minimum value in ch4)\n",
    "        ground_level <- min(ch4)\n",
    "        area_under_curve <- area_under_curve + sum(peak_values - ground_level)\n",
    "      }\n",
    "    }\n",
    "  }\n",
    "  \n",
    "  list(peaksIni = peaksIni, peaksFin = peaksFin, sum2maxpeaks = sum2maxpeaks, area_under_curve = area_under_curve)\n",
    "}\n",
    "\n",
    "# Function to calculate the average of the moving average of CH4 values\n",
    "calculate_moving_avg <- function(ch4, window_size) {\n",
    "  moving_avg <- rollmean(ch4, k = window_size, fill = NA)\n",
    "  mean(moving_avg, na.rm = TRUE)\n",
    "}\n",
    "\n",
    "# Apply the peak detection to the entire database, considering only data between 60 sec to 300 sec per eventID\n",
    "all_phen <- event_ch42 %>%\n",
    "  filter(time_diff_sec >= 60 & time_diff_sec <= 300) %>%\n",
    "  group_by(eventID) %>%\n",
    "  summarise(\n",
    "    num_peaks = {\n",
    "      result <- detectPeaksAndSum(ch4)\n",
    "      length(result$peaksIni)\n",
    "    },\n",
    "    sum2maxpeaks = {\n",
    "      result <- detectPeaksAndSum(ch4)\n",
    "      result$sum2maxpeaks\n",
    "    },\n",
    "    area_under_curve = {\n",
    "      result <- detectPeaksAndSum(ch4)\n",
    "      result$area_under_curve\n",
    "    },\n",
    "    avg_moving_avg_ch4 = calculate_moving_avg(ch4, window_size = 10) # Change window_size as needed\n",
    "  )\n",
    "\n",
    "# Print the results\n",
    "head(all_phen)\n",
    "dim(all_phen)"
   ]
  },
  {
   "cell_type": "code",
   "execution_count": null,
   "id": "d200e0b2-a1c5-4320-b995-90491b80639f",
   "metadata": {
    "vscode": {
     "languageId": "r"
    }
   },
   "outputs": [],
   "source": [
    "#calculate all the phenotypes with cut and not cut and calculate correlations among the phenotypes\n",
    "#HINT1: use merge or join\n",
    "merged<- merge(event_5low, event_quant, by=\"eventID\")\n",
    "head(merged)\n",
    "merged2<- left_join(event_5low, event_3low, by=\"eventID\")\n",
    "head(merged2)\n",
    "#HINT2: use cor and choose the method kendall, spearman or pearson\n",
    "cor(event_5low$avg_ch4, event_3low$avg_ch4, method=\"kendall\", use=\"complete.obs\")\n",
    "cor(event_means$mean_ch4, event_means$mean_co2, method=\"pearson\", use=\"complete.obs\")"
   ]
  },
  {
   "cell_type": "code",
   "execution_count": null,
   "id": "aa936905-93eb-44d1-bd43-e5aa5aacc54c",
   "metadata": {
    "vscode": {
     "languageId": "r"
    }
   },
   "outputs": [],
   "source": []
  }
 ],
 "metadata": {
  "kernelspec": {
   "display_name": "R 4.3.1",
   "language": "R",
   "name": "r4.3.1"
  },
  "language_info": {
   "codemirror_mode": "r",
   "file_extension": ".r",
   "mimetype": "text/x-r-source",
   "name": "R",
   "pygments_lexer": "r",
   "version": "4.3.1"
  }
 },
 "nbformat": 4,
 "nbformat_minor": 5
}
